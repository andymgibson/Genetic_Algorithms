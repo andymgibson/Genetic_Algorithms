{
 "cells": [
  {
   "cell_type": "markdown",
   "metadata": {
    "id": "IBXq6j6Gnp1j"
   },
   "source": [
    "# Solving the Traveling Salesman Problem with Genetic Algorithms\n",
    "- **Andrew Gibson,** 8/23/25\n",
    "- COGS 186: Genetic Algorithms\n",
    "- Prof. Anjum Gupta\n",
    "\n",
    "The traveling salesman problem (TSP) is a classical combinatorial optimization problem, defined as “Given a list of cities and the distances between each pair of cities, what is the shortest possible route that visits each city and returns to the origin city?”\n",
    "\n",
    "Its complexity scales exponentially with the number of cities. For n cities, there are $(n-1)!/2$ possible combinations.\n",
    "\n",
    "![picture](traveling_salesman.png)\n",
    "\n",
    "Illustration of a potential solution to the Traveling Salesman Problem."
   ]
  },
  {
   "cell_type": "markdown",
   "metadata": {
    "id": "43cSQSQvnp1r"
   },
   "source": [
    "Our algorithm must adhere to two basic rules:\n",
    "- Each city needs to be visited exactly once\n",
    "- We must return to the starting city, so our total distance needs to be calculated accordingly  \n",
    "### Approach:\n",
    "We can reconfigure our genetic algorithm in the context of the TSP:\n",
    "- Gene: a city (represented as (x, y) coordinates)\n",
    "- Individual (aka “chromosome”): a single route satisfying the conditions above\n",
    "- Population: a collection of possible routes (i.e., a collection of individuals)\n",
    "- Parents: two routes that are combined to create a new route\n",
    "- Mating pool: a collection of parents that are used to create our next population (thus creating the next generation of routes)\n",
    "- Fitness: a function that tells us how good each route is (in our case, how short the distance is)\n",
    "- Mutation: a way to introduce variation in our population by randomly swapping two cities in a route\n",
    "- Elitism: a way to carry the best individuals into the next generation    \n",
    "  \n",
    "This my general flow for applying GA to the TSP:\n",
    "- 1. Create the population\n",
    "- 2. Determine fitness\n",
    "- 3. Select the mating pool\n",
    "- 4. Breed\n",
    "- 5. Mutate\n",
    "- 6. Repeat  "
   ]
  },
  {
   "cell_type": "code",
   "execution_count": 1,
   "metadata": {},
   "outputs": [],
   "source": [
    "# ! conda info"
   ]
  },
  {
   "cell_type": "code",
   "execution_count": 2,
   "metadata": {
    "id": "K8bCkeranp1u"
   },
   "outputs": [],
   "source": [
    "import numpy as np, random, operator, pandas as pd, matplotlib.pyplot as plt\n",
    "import matplotlib.animation as animation\n",
    "import time\n",
    "\n",
    "np.random.seed(186)"
   ]
  },
  {
   "cell_type": "code",
   "execution_count": 3,
   "metadata": {
    "id": "4gLet7tPnp1u"
   },
   "outputs": [],
   "source": [
    "class City:\n",
    "    def __init__(self, x, y):\n",
    "        self.x = x\n",
    "        self.y = y\n",
    "    \n",
    "    def distance(self, city):\n",
    "        xDis = abs(self.x - city.x)\n",
    "        yDis = abs(self.y - city.y)\n",
    "        distance = np.sqrt((xDis ** 2) + (yDis ** 2))\n",
    "        return distance\n",
    "    \n",
    "    def __repr__(self):\n",
    "        \n",
    "        return \"(\" + str(self.x) + \",\" + str(self.y) + \")\""
   ]
  },
  {
   "cell_type": "code",
   "execution_count": 4,
   "metadata": {
    "id": "-ExtwMD_np1v"
   },
   "outputs": [],
   "source": [
    "class Fitness:\n",
    "    def __init__(self, route):\n",
    "        self.route = route # will be a list of cities\n",
    "        self.distance = 0\n",
    "        self.fitness = 0.0\n",
    "    \n",
    "    def routeDistance(self):\n",
    "        # i added similar features for edge cases like i did in A1\n",
    "        if self.route is None or len(self.route) == 0: # safety against empty or 0 input for route\n",
    "            self.distance = float('inf') # make distance infinite so fitness -> 0\n",
    "            return self.distance\n",
    "\n",
    "        if self.distance == 0: # ensures this is the first time it calculates distance\n",
    "            pathDistance = 0\n",
    "            for i in range(0, len(self.route)): # loop through length of route\n",
    "                fromCity = self.route[i]\n",
    "                toCity = None\n",
    "                if i + 1 < len(self.route): # loop through every city until we get to the last\n",
    "                    toCity = self.route[i + 1] # move to the next stop\n",
    "                else: # add the distance back to the starting city\n",
    "                    toCity = self.route[0] # collect the distance between the last city and the first city\n",
    "                pathDistance += fromCity.distance(toCity)\n",
    "\n",
    "            if pathDistance <= 0.0:\n",
    "                pathDistance = float('inf') # avoid divide by zero issues and heavily penalize bad routes\n",
    "            self.distance = pathDistance # store the distance\n",
    "        return self.distance\n",
    "    \n",
    "    def routeFitness(self):\n",
    "        if self.fitness == 0:\n",
    "            self.fitness = 1 / float(self.routeDistance()) # The longer the route, the lower the fitness\n",
    "            \n",
    "        return self.fitness"
   ]
  },
  {
   "cell_type": "code",
   "execution_count": 5,
   "metadata": {
    "id": "qgm0rIb-np1w"
   },
   "outputs": [],
   "source": [
    "def createRoute(cityList):\n",
    "    \"\"\"\n",
    "    Creates a random individual and in the case of TSP: a route.\n",
    "    \n",
    "    input: None\n",
    "    output: A list of City class objects. \n",
    "    \"\"\"\n",
    "    route = random.sample(cityList, len(cityList))\n",
    "    \n",
    "    return route"
   ]
  },
  {
   "cell_type": "code",
   "execution_count": 6,
   "metadata": {
    "id": "5zP__VuQnp1x"
   },
   "outputs": [],
   "source": [
    "def initialPopulation(popSize, cityList):\n",
    "    \"\"\"\n",
    "    Create inital population of a given size.\n",
    "    Returns a list of random planes.\n",
    "    \"\"\"\n",
    "    population = []\n",
    "\n",
    "    for _ in range(popSize):\n",
    "        population.append(createRoute(cityList))\n",
    "        \n",
    "    return population"
   ]
  },
  {
   "cell_type": "code",
   "execution_count": 7,
   "metadata": {
    "id": "BmfnWZRQnp1y"
   },
   "outputs": [],
   "source": [
    "def rankRoutes(population):\n",
    "    \"\"\"\n",
    "    This function sorts the given population in decreasing order of the fitness score.\n",
    "    Returns a list of ordered pairs of (index, fitness) where index is the index of the\n",
    "    individual within the population\n",
    "    \"\"\"\n",
    "    fitnessResults = {}\n",
    "    for i in range(0,len(population)):\n",
    "        fitnessResults[i] = Fitness(population[i]).routeFitness()\n",
    "        \n",
    "    return sorted(fitnessResults.items(), key = operator.itemgetter(1), reverse = True)"
   ]
  },
  {
   "cell_type": "code",
   "execution_count": 8,
   "metadata": {},
   "outputs": [],
   "source": [
    "def selection(popRanked, eliteSize):\n",
    "    \"\"\"\n",
    "    popRanked: output of rankpopulation() or for this problem: rankRoutes()\n",
    "    eliteSize: number of highest ranked individuals we will retain in the next generation.\n",
    "    \n",
    "    This function takes in a population sorted in decreasing order of fitness score, and chooses a mating pool from it.\n",
    "    It returns a list of indices of the chosen mating pool in the given population.\n",
    "    \"\"\"\n",
    "    selectionResults = []\n",
    "    \n",
    "    # step 1: Retaining the individuals of the top-eliteSize-best fitness in the population.\n",
    "    N = len(popRanked)\n",
    "    eliteSize = max(0, min(int(eliteSize), N))  # clamping and casting for safety\n",
    "    \n",
    "    ix_elite = [ix for ix, _ in popRanked[0:eliteSize]] # sample the top x elite individuals\n",
    "    \n",
    "    selectionResults.extend(ix_elite) # automatically add elites to results\n",
    "    \n",
    "    # step 2: sample from the rest using the fitness-proportionate selection\n",
    "    # step 2.1: convert fitness to weight\n",
    "    indices, fitness = zip(*popRanked[eliteSize:])\n",
    "    weights = np.array(fitness) / np.sum(fitness)\n",
    "    # step 2.2: weighted sampling\n",
    "    n_remain = N - eliteSize\n",
    "\n",
    "    sampled = np.random.choice(indices, size=n_remain, p=weights)\n",
    "    # p = the probability associated with each entry = fitnesses as fractions of total fitness\n",
    "    # b/c of their weights more fit individuals are more likely to be selected\n",
    "\n",
    "    selectionResults.extend(sampled.tolist()) # add sampled to the results\n",
    "    # will return a list of indicies of len N (same as the initial population)\n",
    "    \n",
    "    return selectionResults"
   ]
  },
  {
   "cell_type": "code",
   "execution_count": 9,
   "metadata": {
    "id": "CTAKhDIjnp11"
   },
   "outputs": [],
   "source": [
    "def matingPool(population, selectionResults):\n",
    "    \"\"\"\n",
    "    Create the mating pool.\n",
    "    Returns a list Planes that has been selected. \n",
    "    \"\"\"\n",
    "    matingpool = [population[i] for i in selectionResults]\n",
    "    return matingpool"
   ]
  },
  {
   "cell_type": "markdown",
   "metadata": {
    "id": "hBS4jo8xnp11"
   },
   "source": [
    "### Crossover and Mutation\n",
    "There are infinite crossover and mutation functions one could use for genetic algorithms. I picked ordered crossover because I thought it \n",
    "could be helpful to preserve the order of good routes. I've tested several other crossover functions, one of which is commented out below, with noticable, but largely marginal differences.\n",
    "\n",
    "![picture](parent_child.png)\n",
    "(src: http://dtnewman.github.io/finch/genetic_algorithms.html)\n",
    "\n",
    "See my genetic algorithm notebook for more options for breeding and mutation functions."
   ]
  },
  {
   "cell_type": "code",
   "execution_count": 10,
   "metadata": {
    "id": "A0GyaS-qnp12"
   },
   "outputs": [],
   "source": [
    "def breed(parent1, parent2):\n",
    "    \"\"\"\n",
    "    ~ New Ordered Crossover Function for TSP ~\n",
    "    This function should breed both parents (routes) and return a child route according to the ordered crossover algorithm  \n",
    "    mentioned above. Please fill in the code to do so. Creates a copy of a continuous slice of DNA from the genome of parent 1. The\n",
    "    remaining positions are filled in using DNA from parent 2.\n",
    "    \"\"\"\n",
    "    N = len(parent1) # get the num of genes (cities) from either parent\n",
    "    \n",
    "    # step 1: select and copy the subset from parent 1\n",
    "\n",
    "    # np.random.choice picks two random cut points on interval [0, n) for crossover\n",
    "    # np.sort forces the start position to be before the stop position on the genome\n",
    "    start, stop = np.sort(np.random.choice(N, size=2, replace=False))\n",
    "    # preallocates N empty spots to store genes later\n",
    "    child = [None] * N # this allows us to index instead of using .extend which would mess up the position\n",
    "    child[start:stop] = parent1[start:stop] # duplicate segment into child at the same indices\n",
    "    \n",
    "    # step 2: fill the remaining positions with genes from parent 2\n",
    "    w = stop\n",
    "    # loop through parent2 from stop to the end and then wrap around to the beginning\n",
    "    for i in list(parent2[stop:]) + list(parent2[:stop]): # where i = each city\n",
    "        if i not in child: # each city must be visited exactly once\n",
    "            child[w % N] = i # when w == N then we wrap around back to the start\n",
    "            w += 1 # iterate through filling the remaining slots\n",
    "    \n",
    "    return child"
   ]
  },
  {
   "cell_type": "code",
   "execution_count": 11,
   "metadata": {},
   "outputs": [],
   "source": [
    "# alternate breeding function\n",
    "# def breed(parent1, parent2):\n",
    "#     N = len(parent1)\n",
    "#     start, stop = np.sort(np.random.choice(N, 2, replace=False))\n",
    "#     child = [None] * N\n",
    "#     child[start:stop] = parent1[start:stop]\n",
    "#     j = stop\n",
    "#     for city in parent2[stop:] + parent2[:stop]:\n",
    "#         if city not in child:\n",
    "#             child[j % N] = city\n",
    "#             j += 1\n",
    "#     return child"
   ]
  },
  {
   "cell_type": "code",
   "execution_count": 12,
   "metadata": {
    "id": "vOoO-Drfnp13"
   },
   "outputs": [],
   "source": [
    "def breedPopulation(matingpool, eliteSize):\n",
    "    \"\"\"\n",
    "    This function should return the offspring population from the current population using the breed function. \n",
    "    - First, it should retain the eliteSize best routes from the current population. \n",
    "    - Then, it should use the breed function to mate members of the population, to fill out the rest of the next generation. \n",
    "    You have the freedom to decide how to sample individuals from the mating pool for mating.\n",
    "    \"\"\"\n",
    "    N = len(matingpool)\n",
    "    assert eliteSize <= N, \"Error: eliteSize > N\"\n",
    "    eliteSize = max(0, min(int(eliteSize), N)) # clamp and cast same as before\n",
    "\n",
    "    children = []\n",
    "\n",
    "    # first, automatically breed elites\n",
    "    children.extend([tour[:] for tour in matingpool[:eliteSize]])\n",
    "\n",
    "    # second, create the remaining children from random parents\n",
    "    for i in range(N - eliteSize): # loop through the remaining slots in population\n",
    "        # same as previous GA: some parents will produce multiple children and some none at all\n",
    "        parent1 = matingpool[np.random.randint(N)] # randomly sample matingpool uniformly and with replacement\n",
    "        parent2 = matingpool[np.random.randint(N)]\n",
    "\n",
    "        child = breed(parent1, parent2) # call breed function on mating pair\n",
    "        children.append(child) # add new child to the list of new children\n",
    "\n",
    "    # safety check to make sure population size stays constant with each iteration\n",
    "    assert len(children) == N, \"Error: length of children != N\"\n",
    "\n",
    "    return children"
   ]
  },
  {
   "cell_type": "code",
   "execution_count": 13,
   "metadata": {
    "id": "S5OvY2D4np14"
   },
   "outputs": [],
   "source": [
    "# def mutate(individual, mutationRate):\n",
    "#     \"\"\"\n",
    "#     ~ Swap Mutation Function for TSP ~\n",
    "#     This function should take in an individual (route) and return a mutated individual. Assuming mutationRate is a probability\n",
    "#     between 0 and 1. Use the swap mutation described above to mutate the individual according to the mutationRate. Iterate \n",
    "#     through each of the cities and swap it with another city according to the given mutationRate. Hypothetically, the average number of \n",
    "#     swap mutations per run of this function will be equal to N * mutationRate.\n",
    "\n",
    "#     returns : list of mutated tours or original list unchanged\n",
    "#     \"\"\"\n",
    "#     N = len(individual)\n",
    "#     ix = list(range(N)) # create an ix map so we can rearrange ixs instead of changing the original tour\n",
    "#     # this allows us to just reorder the ixs instead of mutating the actual list of routes\n",
    "    \n",
    "#     for i in range(N): # loop through each position in tour\n",
    "#         if np.random.rand() < mutationRate: # randomly decide whether or not to mutate position i\n",
    "#             j = np.random.randint(N - 1) # if mutate, pick random position j\n",
    "#             # j will be uniform over all indicies except i\n",
    "            \n",
    "#             if j >= i: # make sure i and j are not equal so we are swapping two unique positions\n",
    "#                 j += 1 # skip over i when j is at or after i to avoid i picking itself\n",
    "#             # do the swap every time function chooses to mutate\n",
    "#             ix[i], ix[j] = ix[j], ix[i] # use the ix map to swap the two unique cities\n",
    "\n",
    "#     # build new tour\n",
    "#     #tour = [individual[k] for k in ix] # reindex original individual using (potentially mutated) ix map\n",
    "    \n",
    "#     return [individual[k] for k in ix]"
   ]
  },
  {
   "cell_type": "code",
   "execution_count": 14,
   "metadata": {},
   "outputs": [],
   "source": [
    "# batch mutation function that hopefully avoids issues with my original one\n",
    "def mutate(individual, mutationRate):\n",
    "    \"\"\"\n",
    "    ~ Alternate (Batch) Mutation Function for TSP ~\n",
    "    Hopefully rectifies issues associated with my first function. In TSP and other optimization problems, mutation helps avoid local \n",
    "    convergence.\n",
    "    \"\"\"\n",
    "    N  = len(individual)\n",
    "    ix = list(range(N))\n",
    "\n",
    "    mask = np.random.rand(N) < mutationRate # boolean mask to choose which positions to select for mutation\n",
    "    position = [p for p in range(N) if mask[p]] # list comp to extract True indicies from the mask\n",
    "\n",
    "    if len(position) >= 2: # b/c we need at least 2 positions in order to perform a swap\n",
    "        # random order, then rotate so no one stays in place\n",
    "        np.random.shuffle(position) # shuffle the position's order randomly\n",
    "        position_rot = position[1:] + position[:1] # move every item in the list one position to the left and wrap around\n",
    "        # each position should be paired with the next position in the cycle\n",
    "        for a, b in zip(position, position_rot):\n",
    "            ix[a], ix[b] = ix[b], ix[a]\n",
    "\n",
    "    return [individual[k] for k in ix]"
   ]
  },
  {
   "cell_type": "code",
   "execution_count": 15,
   "metadata": {},
   "outputs": [],
   "source": [
    "# ## different type of mutation function for fun\n",
    "# def mutate_2opt(individual, mutationRate):\n",
    "#     tour = individual[:]\n",
    "    \n",
    "#     if np.random.rand() < mutationRate:\n",
    "#         start, stop = sorted(np.random.choice(len(tour), 2, replace=False))\n",
    "#         tour[start:stop+1] = reversed(tour[start:stop+1])\n",
    "#     return tour"
   ]
  },
  {
   "cell_type": "code",
   "execution_count": 16,
   "metadata": {
    "id": "LwzXe2cxnp15"
   },
   "outputs": [],
   "source": [
    "def mutatePopulation(population, mutationRate, eliteSize):\n",
    "    \"\"\"\n",
    "    This function uses the above mutate function to mutate each member of the population. It iterates over the population and \n",
    "    mutates each individual using the mutationRate. It then returns the mutated population.\n",
    "    \"\"\"\n",
    "    N = len(population)\n",
    "    assert eliteSize <= N, \"Error: eliteSize > N\"\n",
    "    eliteSize = max(0, min(int(eliteSize), N)) # make sure eliteSize isn't greater than population\n",
    "    \n",
    "    mutatedPop = []\n",
    "    # step 1: retain all elites\n",
    "    # automatically transfer all elites into the new population unchanged\n",
    "    # tour[:] shallow copies a new list with the same cities, so we can't accidently change elite's order later\n",
    "    mutatedPop.extend([tour[:] for tour in population[:eliteSize]]) # select elites and add them to mutatedPop\n",
    "    \n",
    "    # step 2: mutate those that are not the elites\n",
    "    for i in population[eliteSize:]: # for the rest of the population\n",
    "        mutatedPop.append(mutate(i, mutationRate)) # decide whether to mutate and add each to mutatedPop\n",
    "\n",
    "    # redundant safety checks given issues I had with first GA\n",
    "    assert len(mutatedPop) == N, \"Error: mutatedPop != N\"\n",
    "    \n",
    "    return mutatedPop"
   ]
  },
  {
   "cell_type": "code",
   "execution_count": 17,
   "metadata": {
    "id": "BxsiJKU0np15"
   },
   "outputs": [],
   "source": [
    "def nextGeneration(currentGen, eliteSize, mutationRate):\n",
    "    \"\"\"\n",
    "    This function takes in the current generation, eliteSize and mutationRate and should returns the next generation.\n",
    "    \"\"\"\n",
    "    # step 1, rank given population according to fitness\n",
    "    ranked_pop = rankRoutes(currentGen)\n",
    "\n",
    "    # step 2, proportional selection with elitism\n",
    "    select_ixs = selection(ranked_pop, eliteSize)\n",
    "\n",
    "    # step 3, call matingPool function to create a new list of tours based on selected ixs\n",
    "    mate_pool = matingPool(currentGen, select_ixs)\n",
    "\n",
    "    # step 4, use pool to breed new population of children of same size N\n",
    "    child_pool = breedPopulation(mate_pool, eliteSize)\n",
    "\n",
    "    # step 5, randomly decide whether or not to mutate non elite tours\n",
    "    nextGeneration = mutatePopulation(child_pool, mutationRate, eliteSize)\n",
    "\n",
    "    return nextGeneration"
   ]
  },
  {
   "cell_type": "markdown",
   "metadata": {
    "id": "ZwDlXro5np16"
   },
   "source": [
    "#### Main driver function\n",
    "Parameters:\n",
    "1. `population`: A list of possible genes. In our case, a list of all `City`s. \n",
    "2. `popSize`: The population size at each generation. \n",
    "3. `eliteSize`: The size of the elite population. \n",
    "4. `mutationRate`: The probability of an individual gets mutated. \n",
    "4. `generations`: The maximum number of generations to run for. \n",
    "5. `max_num_gen_no_improv`: The maximum number of generations with no improvement is allowed before we stop the algorithm early. \n",
    "\n",
    "Returns:\n",
    "1. `bestRoute`: The route with the highest fitness score(`bestRoute_list[-1]`). \n",
    "2. `bestRoute_list`: A list of best routes. `bestRoute_list[0]` is the best route from the first generation of population, `bestRoute_list[1]` is the bestRoute from the second generation of population, and so on. \n",
    "3. `fitness_record`: A list of the best fitness from each generation. `fitness_record[0]` is the best fitness score from the first generation. \n",
    "\n",
    "*Note: I added asserts to redundantly check that population size is constant at each step, which tended to be one of my most frequent\n",
    "bugs.\n"
   ]
  },
  {
   "cell_type": "code",
   "execution_count": 18,
   "metadata": {
    "id": "h3U_c7lqb-x6"
   },
   "outputs": [],
   "source": [
    "def geneticAlgorithm(population, popSize, eliteSize, mutationRate, generations, max_num_gen_no_improv):\n",
    "    \"\"\"\n",
    "    This function creates an initial population, then runs the genetic algorithm according to the inputted parameters\n",
    "    \"\"\"\n",
    "    pop = initialPopulation(popSize, population) # create initial pop\n",
    "    print(\"Initial distance: \" + str(1 / rankRoutes(pop)[0][1])) # rank initial pop by fitness (= 1 / distance)\n",
    "\n",
    "    # initialize empty metrics\n",
    "    best_route_list = []\n",
    "    fitness_record = []\n",
    "    num_of_no_improvement = 0\n",
    "    previous_fitness = 0\n",
    "\n",
    "    ranked_pop = rankRoutes(pop) # assign ranking of pop to var\n",
    "    best_ix, best_fit = ranked_pop[0] # extract its ix and fitness\n",
    "    best_route = pop[best_ix] # extract the best route\n",
    "\n",
    "    # store gen 0's best route and fitness\n",
    "    best_route_list.append(best_route)\n",
    "    fitness_record.append(best_fit)\n",
    "    previous_fitness = best_fit # store the previous best fitness for later improvement checks\n",
    "\n",
    "    # iterate for each generation in num of generations\n",
    "    for i in range(generations): # either cycle through every gen\n",
    "        if num_of_no_improvement >= max_num_gen_no_improv: # or stop when improvement decreases below threshold\n",
    "            print(f\"early stopping at {i}\")\n",
    "            break\n",
    "\n",
    "        # evolve the next generation\n",
    "        pop = nextGeneration(pop, eliteSize, mutationRate)\n",
    "        # redundant safety check for constant popSize\n",
    "        assert len(pop) == popSize, \"Error: pop != popSize for this gen\"\n",
    "\n",
    "        # evaluate next generation\n",
    "        ranked = rankRoutes(pop)\n",
    "        best_ix, best_fit = ranked[0]\n",
    "        best_route = pop[best_ix]\n",
    "\n",
    "        # store metrics for later record and plot\n",
    "        best_route_list.append(best_route)\n",
    "        fitness_record.append(best_fit)\n",
    "\n",
    "        if best_fit > previous_fitness:\n",
    "            previous_fitness = best_fit # update previous_fitness if new fitness is better\n",
    "            num_of_no_improvement = 0\n",
    "        else:\n",
    "            num_of_no_improvement += 1 # otherwise increase counter for gens with no improvement\n",
    "\n",
    "    bestRoute = best_route_list[-1] # extract the final top route from end of list\n",
    "    bestRoute_list = best_route_list # assign full route list to output\n",
    "\n",
    "    # calculate final distance as the inverse of last fitness score in record\n",
    "    # also include safety for edge case where best fitness == 0 just in case\n",
    "    final_fit = fitness_record[-1]\n",
    "    print(\"Final distance: \" + ('inf' if final_fit == 0 else str(1.0 / final_fit)) )\n",
    "          \n",
    "    return bestRoute, bestRoute_list, fitness_record"
   ]
  },
  {
   "cell_type": "markdown",
   "metadata": {
    "id": "k0E1VD-fnp16"
   },
   "source": [
    "### Solving a toy problem"
   ]
  },
  {
   "cell_type": "markdown",
   "metadata": {
    "id": "RypKthO9np17"
   },
   "source": [
    "First, I tested the alg on the top 5 cities in the US just to save compute while refactoring..."
   ]
  },
  {
   "cell_type": "code",
   "execution_count": 19,
   "metadata": {
    "colab": {
     "base_uri": "https://localhost:8080/"
    },
    "id": "jtIUFXqpnp18",
    "outputId": "0b123a44-b749-4cd9-acdd-9989fbe2e1b5"
   },
   "outputs": [
    {
     "name": "stdout",
     "output_type": "stream",
     "text": [
      "Initial distance: 9256.22933537916\n",
      "Final distance: 9256.22933537916\n",
      "Route:\n",
      "Chicago to New York to Philly to Houston to LA to Chicago\n"
     ]
    }
   ],
   "source": [
    "cityList = []\n",
    "NewYork = City(int(40.71 * 100), int(-74.00 * 100))\n",
    "# the top 5 cities in the US:\n",
    "LA = City(3405,-11824)\n",
    "Chicago = City(4187,-8762)\n",
    "Houston = City(2976,-9536)\n",
    "Philly = City(3995,-7516)\n",
    "cityList.append(NewYork)\n",
    "cityList.append(LA)\n",
    "cityList.append(Chicago)\n",
    "cityList.append(Houston)\n",
    "cityList.append(Philly)\n",
    "\n",
    "# run GA to solve TSP for 5 cities with 300 indivs, 20 elites, 1% mutation rate, 30 gens, and max_num_gen_no_improv = 9999\n",
    "bestRoute, bestRoute_list, fitness_record = geneticAlgorithm(population=cityList,\n",
    "                                                             popSize=300,\n",
    "                                                             eliteSize=20,\n",
    "                                                             mutationRate=0.01,\n",
    "                                                             generations=30,\n",
    "                                                             max_num_gen_no_improv=9999)\n",
    "\n",
    "# so we can easily see what our tour path is\n",
    "names = ['New York', 'LA', 'Chicago', 'Houston', 'Philly'] # not as efficient as a dict or func, but lazier :)\n",
    "route_names = [names[cityList.index(i)] for i in bestRoute]\n",
    "\n",
    "print('Route:')\n",
    "print(' to '.join(route_names + [route_names[0]]))"
   ]
  },
  {
   "cell_type": "markdown",
   "metadata": {
    "id": "E7km8LRMnp1-"
   },
   "source": [
    "You can see the final route will always be the same order, but loops around with different starting cities each time."
   ]
  },
  {
   "cell_type": "code",
   "execution_count": 20,
   "metadata": {},
   "outputs": [
    {
     "name": "stdout",
     "output_type": "stream",
     "text": [
      "Initial distance: 9256.229335379161\n",
      "Final distance: 9256.22933537916\n",
      "Route:\n",
      "Chicago to New York to Philly to Houston to LA to Chicago\n"
     ]
    }
   ],
   "source": [
    "# double check with different popSize, eliteSize, and mutationRate\n",
    "bestRoute, bestRoute_list, fitness_record = geneticAlgorithm(population=cityList,\n",
    "                                                             popSize=30,\n",
    "                                                             eliteSize=2,\n",
    "                                                             mutationRate=0.05,\n",
    "                                                             generations=30,\n",
    "                                                             max_num_gen_no_improv=9999)\n",
    "\n",
    "# so we can easily see what our tour path is\n",
    "names = ['New York', 'LA', 'Chicago', 'Houston', 'Philly']\n",
    "route_names = [names[cityList.index(i)] for i in bestRoute]\n",
    "\n",
    "print('Route:')\n",
    "print(' to '.join(route_names + [route_names[0]]))"
   ]
  },
  {
   "cell_type": "markdown",
   "metadata": {
    "id": "gWm7xnj6np1-"
   },
   "source": [
    "### Visualizing the 5 city tour"
   ]
  },
  {
   "cell_type": "code",
   "execution_count": 21,
   "metadata": {
    "id": "SxViJnzFnp1_",
    "outputId": "d6311d1d-e8a7-4e7a-f90e-cf226e1a1f26"
   },
   "outputs": [
    {
     "data": {
      "image/png": "[encoded data removed]",
      "text/plain": [
       "<Figure size 640x480 with 1 Axes>"
      ]
     },
     "metadata": {},
     "output_type": "display_data"
    }
   ],
   "source": [
    "fig, ax1 = plt.subplots(ncols=1)\n",
    "y=[4071,4187,3405,2976,3995]\n",
    "x=[-7400,-8762,-11824,-9536,-7516]\n",
    "n=['New York','Chicago',\"LA\",\"Houston\",\"Philly\"]\n",
    "ax1.plot(x, y, marker=\"o\", markerfacecolor=\"r\")\n",
    "for i, txt in enumerate(n):\n",
    "    ax1.annotate(txt, (x[i], y[i]))"
   ]
  },
  {
   "cell_type": "markdown",
   "metadata": {
    "id": "UnPgqxbTnp1_"
   },
   "source": [
    "### TSP with 96 cities\n",
    "Now we can apply this to a real problem. Note: This took about 15mins to run on my laptop."
   ]
  },
  {
   "cell_type": "code",
   "execution_count": 22,
   "metadata": {},
   "outputs": [
    {
     "name": "stdout",
     "output_type": "stream",
     "text": [
      "96\n",
      "Initial distance: 152722.68061115113\n",
      "Final distance: 40888.236116562744\n",
      "Best distance: 40888.236116562744\n"
     ]
    }
   ],
   "source": [
    "NewYork=City(4069, -7392)\n",
    "LosAngeles=City(3411, -11841)\n",
    "Chicago=City(4184, -8769)\n",
    "Miami=City(2578, -8021)\n",
    "Dallas=City(3279, -9677)\n",
    "Philadelphia=City(4001, -7513)\n",
    "Houston=City(2979, -9539)\n",
    "Atlanta=City(3376, -8442)\n",
    "Washington=City(3890, -7702)\n",
    "Boston=City(4232, -7108)\n",
    "Phoenix=City(3357, -11209)\n",
    "Seattle=City(4762, -12232)\n",
    "SanFrancisco=City(3776, -12244)\n",
    "Detroit=City(4238, -8310)\n",
    "SanDiego=City(3283, -11712)\n",
    "Minneapolis=City(4496, -9327)\n",
    "Tampa=City(2799, -8245)\n",
    "Denver=City(3976, -10488)\n",
    "Brooklyn=City(4065, -7395)\n",
    "Queens=City(4075, -7380)\n",
    "Riverside=City(3394, -11739)\n",
    "Baltimore=City(3931, -7661)\n",
    "LasVegas=City(3623, -11527)\n",
    "Portland=City(4554, -12265)\n",
    "SanAntonio=City(2947, -9853)\n",
    "StLouis=City(3864, -9025)\n",
    "Sacramento=City(3857, -12147)\n",
    "Orlando=City(2848, -8134)\n",
    "SanJose=City(3730, -12185)\n",
    "Cleveland=City(4148, -8168)\n",
    "Pittsburgh=City(4044, -7998)\n",
    "Austin=City(3030, -9775)\n",
    "Cincinnati=City(3914, -8451)\n",
    "KansasCity=City(3912, -9455)\n",
    "Manhattan=City(4078, -7397)\n",
    "Indianapolis=City(3978, -8615)\n",
    "Columbus=City(3999, -8299)\n",
    "Charlotte=City(3521, -8083)\n",
    "VirginiaBeach=City(3673, -7604)\n",
    "Bronx=City(4085, -7387)\n",
    "Milwaukee=City(4306, -8797)\n",
    "Providence=City(4182, -7142)\n",
    "Jacksonville=City(3033, -8167)\n",
    "SaltLakeCity=City(4078, -11193)\n",
    "Nashville=City(3617, -8678)\n",
    "Richmond=City(3753, -7748)\n",
    "Memphis=City(3510, -8998)\n",
    "Raleigh=City(3583, -7864)\n",
    "NewOrleans=City(3007, -8993)\n",
    "Louisville=City(3817, -8565)\n",
    "OklahomaCity=City(3547, -9751)\n",
    "Bridgeport=City(4119, -7320)\n",
    "Buffalo=City(4290, -7885)\n",
    "FortWorth=City(3278, -9735)\n",
    "Hartford=City(4177, -7268)\n",
    "Tucson=City(3215, -11088)\n",
    "Omaha=City(4126, -9605)\n",
    "ElPaso=City(3185, -10643)\n",
    "McAllen=City(2623, -9825)\n",
    "Albuquerque=City(3511, -10665)\n",
    "Birmingham=City(3353, -8680)\n",
    "Sarasota=City(2734, -8254)\n",
    "Dayton=City(3978, -8420)\n",
    "Rochester=City(4317, -7762)\n",
    "Fresno=City(3678, -11979)\n",
    "Allentown=City(4060, -7548)\n",
    "Tulsa=City(3613, -9590)\n",
    "CapeCoral=City(2664, -8200)\n",
    "Concord=City(3797, -12200)\n",
    "ColoradoSprings=City(3887, -10476)\n",
    "Charleston=City(3282, -7996)\n",
    "Springfield=City(4212, -7254)\n",
    "GrandRapids=City(4296, -8566)\n",
    "MissionViejo=City(3361, -11766)\n",
    "Albany=City(4267, -7380)\n",
    "Knoxville=City(3597, -8395)\n",
    "Bakersfield=City(3535, -11904)\n",
    "Ogden=City(4123, -11197)\n",
    "BatonRouge=City(3044, -9113)\n",
    "Akron=City(4108, -8152)\n",
    "NewHaven=City(4131, -7292)\n",
    "Columbia=City(3404, -8090)\n",
    "Mesa=City(3340, -11172)\n",
    "PalmBay=City(2796, -8066)\n",
    "Provo=City(4025, -11165)\n",
    "Worcester=City(4227, -7181)\n",
    "Murrieta=City(3357, -11719)\n",
    "Greenville=City(3484, -8236)\n",
    "Wichita=City(3769, -9734)\n",
    "Toledo=City(4166, -8358)\n",
    "StatenIsland=City(4058, -7415)\n",
    "DesMoines=City(4157, -9361)\n",
    "LongBeach=City(3380, -11817)\n",
    "PortStLucie=City(2728, -8039)\n",
    "Denton=City(3322, -9714)\n",
    "Madison=City(4308, -8939)\n",
    "cityList= []\n",
    "cityList.append(NewYork)\n",
    "cityList.append(LosAngeles)\n",
    "cityList.append(Chicago)\n",
    "cityList.append(Miami)\n",
    "cityList.append(Dallas)\n",
    "cityList.append(Philadelphia)\n",
    "cityList.append(Houston)\n",
    "cityList.append(Atlanta)\n",
    "cityList.append(Washington)\n",
    "cityList.append(Boston)\n",
    "cityList.append(Phoenix)\n",
    "cityList.append(Seattle)\n",
    "cityList.append(SanFrancisco)\n",
    "cityList.append(Detroit)\n",
    "cityList.append(SanDiego)\n",
    "cityList.append(Minneapolis)\n",
    "cityList.append(Tampa)\n",
    "cityList.append(Denver)\n",
    "cityList.append(Brooklyn)\n",
    "cityList.append(Queens)\n",
    "cityList.append(Riverside)\n",
    "cityList.append(Baltimore)\n",
    "cityList.append(LasVegas)\n",
    "cityList.append(Portland)\n",
    "cityList.append(SanAntonio)\n",
    "cityList.append(StLouis)\n",
    "cityList.append(Sacramento)\n",
    "cityList.append(Orlando)\n",
    "cityList.append(SanJose)\n",
    "cityList.append(Cleveland)\n",
    "cityList.append(Pittsburgh)\n",
    "cityList.append(Austin)\n",
    "cityList.append(Cincinnati)\n",
    "cityList.append(KansasCity)\n",
    "cityList.append(Manhattan)\n",
    "cityList.append(Indianapolis)\n",
    "cityList.append(Columbus)\n",
    "cityList.append(Charlotte)\n",
    "cityList.append(VirginiaBeach)\n",
    "cityList.append(Bronx)\n",
    "cityList.append(Milwaukee)\n",
    "cityList.append(Providence)\n",
    "cityList.append(Jacksonville)\n",
    "cityList.append(SaltLakeCity)\n",
    "cityList.append(Nashville)\n",
    "cityList.append(Richmond)\n",
    "cityList.append(Memphis)\n",
    "cityList.append(Raleigh)\n",
    "cityList.append(NewOrleans)\n",
    "cityList.append(Louisville)\n",
    "cityList.append(OklahomaCity)\n",
    "cityList.append(Bridgeport)\n",
    "cityList.append(Buffalo)\n",
    "cityList.append(FortWorth)\n",
    "cityList.append(Hartford)\n",
    "cityList.append(Tucson)\n",
    "cityList.append(Omaha)\n",
    "cityList.append(ElPaso)\n",
    "cityList.append(McAllen)\n",
    "cityList.append(Albuquerque)\n",
    "cityList.append(Birmingham)\n",
    "cityList.append(Sarasota)\n",
    "cityList.append(Dayton)\n",
    "cityList.append(Rochester)\n",
    "cityList.append(Fresno)\n",
    "cityList.append(Allentown)\n",
    "cityList.append(Tulsa)\n",
    "cityList.append(CapeCoral)\n",
    "cityList.append(Concord)\n",
    "cityList.append(ColoradoSprings)\n",
    "cityList.append(Charleston)\n",
    "cityList.append(Springfield)\n",
    "cityList.append(GrandRapids)\n",
    "cityList.append(MissionViejo)\n",
    "cityList.append(Albany)\n",
    "cityList.append(Knoxville)\n",
    "cityList.append(Bakersfield)\n",
    "cityList.append(Ogden)\n",
    "cityList.append(BatonRouge)\n",
    "cityList.append(Akron)\n",
    "cityList.append(NewHaven)\n",
    "cityList.append(Columbia)\n",
    "cityList.append(Mesa)\n",
    "cityList.append(PalmBay)\n",
    "cityList.append(Provo)\n",
    "cityList.append(Worcester)\n",
    "cityList.append(Murrieta)\n",
    "cityList.append(Greenville)\n",
    "cityList.append(Wichita)\n",
    "cityList.append(Toledo)\n",
    "cityList.append(StatenIsland)\n",
    "cityList.append(DesMoines)\n",
    "cityList.append(LongBeach)\n",
    "cityList.append(PortStLucie)\n",
    "cityList.append(Denton)\n",
    "cityList.append(Madison)\n",
    "city_l = cityList\n",
    "print(len(city_l))\n",
    "\n",
    "# run GA to solve TSP for 96 cities with 600 indivs, 60 elites, 2% mutation rate, 1000 gens, and max_num_gen_no_improv = 100\n",
    "bestRoute, bestRoute_list, fitness_record = geneticAlgorithm(population=cityList,\n",
    "                                                             popSize=600,\n",
    "                                                             eliteSize=60,\n",
    "                                                             mutationRate=0.02,\n",
    "                                                             generations=1000,\n",
    "                                                             max_num_gen_no_improv=100)\n",
    "\n",
    "# reporting final distance\n",
    "best_dist = 1.0 / fitness_record[-1]\n",
    "print(f'Best distance: {best_dist}')"
   ]
  },
  {
   "cell_type": "code",
   "execution_count": 23,
   "metadata": {},
   "outputs": [
    {
     "name": "stdout",
     "output_type": "stream",
     "text": [
      "Initial distance: 160594.62982482207\n",
      "Final distance: 40191.02545424626\n"
     ]
    },
    {
     "data": {
      "text/plain": [
       "[<matplotlib.lines.Line2D at 0x109807b50>]"
      ]
     },
     "execution_count": 23,
     "metadata": {},
     "output_type": "execute_result"
    },
    {
     "data": {
      "image/png": "[encoded data removed]",
      "text/plain": [
       "<Figure size 640x480 with 1 Axes>"
      ]
     },
     "metadata": {},
     "output_type": "display_data"
    }
   ],
   "source": [
    "# for plotting:\n",
    "best_route, best_route_list, fitness_record = geneticAlgorithm(population=cityList,\n",
    "                                                             popSize=600,\n",
    "                                                             eliteSize=60,\n",
    "                                                             mutationRate=0.02,\n",
    "                                                             generations=1000,\n",
    "                                                             max_num_gen_no_improv=100)\n",
    "\n",
    "fig,ax = plt.subplots()\n",
    "ax.set_xlim([2500,4900])\n",
    "ax.set_ylim([-13000,-6000])\n",
    "\n",
    "# extract the x and y coordinates of each city\n",
    "x=[]\n",
    "for i in best_route:\n",
    "    x.append(i.x)\n",
    "y=[]\n",
    "for i in best_route:\n",
    "    y.append(i.y)\n",
    "\n",
    "# return to the starting city to finish the loop\n",
    "x.append(x[0])\n",
    "y.append(y[0])\n",
    "\n",
    "ax.plot(x, y, marker=\"o\", markerfacecolor=\"r\")"
   ]
  },
  {
   "cell_type": "code",
   "execution_count": 24,
   "metadata": {},
   "outputs": [
    {
     "name": "stdout",
     "output_type": "stream",
     "text": [
      "Initial distance: 152878.5033338208\n",
      "Final distance: 43930.32662535969\n"
     ]
    }
   ],
   "source": [
    "# let's see if different params change the final distance\n",
    "best_route, best_route_list, fitness_record = geneticAlgorithm(population=cityList,\n",
    "                                                             popSize=1000,\n",
    "                                                             eliteSize=60,\n",
    "                                                             mutationRate=0.02,\n",
    "                                                             generations=1200,\n",
    "                                                             max_num_gen_no_improv=200)"
   ]
  },
  {
   "cell_type": "code",
   "execution_count": 25,
   "metadata": {},
   "outputs": [
    {
     "name": "stdout",
     "output_type": "stream",
     "text": [
      "Initial distance: 157929.11913084035\n",
      "Final distance: 48651.59308498016\n"
     ]
    }
   ],
   "source": [
    "# what about a higher mutation rate?\n",
    "best_route, best_route_list, fitness_record = geneticAlgorithm(population=cityList,\n",
    "                                                             popSize=1000,\n",
    "                                                             eliteSize=60,\n",
    "                                                             mutationRate=0.03,\n",
    "                                                             generations=1200,\n",
    "                                                             max_num_gen_no_improv=200)"
   ]
  },
  {
   "cell_type": "code",
   "execution_count": 26,
   "metadata": {},
   "outputs": [
    {
     "name": "stdout",
     "output_type": "stream",
     "text": [
      "Initial distance: 160155.27025000178\n",
      "Final distance: 36810.90254475808\n"
     ]
    }
   ],
   "source": [
    "# with this setup it appears lower popSize, lower mutation rate, and high gens and patience seem to be the best\n",
    "best_route, best_route_list, fitness_record = geneticAlgorithm(population=cityList,\n",
    "                                                             popSize=600,\n",
    "                                                             eliteSize=60,\n",
    "                                                             mutationRate=0.02,\n",
    "                                                             generations=1200,\n",
    "                                                             max_num_gen_no_improv=200)"
   ]
  },
  {
   "cell_type": "code",
   "execution_count": 27,
   "metadata": {},
   "outputs": [],
   "source": [
    "def make_animation(route_list, fitness_record, Name=\"Andy Gibson\"):\n",
    "    '''\n",
    "    Input:  route_list : A list of routes. Its length is the number of generations.\n",
    "            fitness_record: A list of fitness scores. Its length is also the number of generations.\n",
    "    '''\n",
    "    fig,ax = plt.subplots()\n",
    "    ax.set_xlim([2500,4900])\n",
    "    ax.set_ylim([-13000,-6000])\n",
    "\n",
    "    if len(route_list)<=50:\n",
    "        divisor = 1 \n",
    "    else:\n",
    "        divisor= len(route_list)//50\n",
    "    def initial():\n",
    "        ax.set_xlim([2500,4900])\n",
    "        ax.set_ylim([-13000,-6000])\n",
    "        route_plot, = ax.plot([], [], marker=\"o\", markerfacecolor=\"r\")\n",
    "        return route_plot,\n",
    "    def update(n):\n",
    "        x=[]\n",
    "        if n >= (len(route_list)//divisor):\n",
    "            for i in route_list[-1]:\n",
    "                x.append(i.x)\n",
    "            y=[]\n",
    "            for i in route_list[-1]:\n",
    "                y.append(i.y) \n",
    "        else:\n",
    "            print(f\"Producing plot for generation: {int(np.floor(n*divisor))}\", end='\\r')\n",
    "            for i in route_list[int(np.floor(n*divisor))]:\n",
    "                x.append(i.x)\n",
    "            y=[]\n",
    "            for i in route_list[int(np.floor(n*divisor))]:\n",
    "                y.append(i.y)  \n",
    "\n",
    "        ax = plt.axes(xlim=(2500,4900), ylim=(-13000,-6000))\n",
    "\n",
    "        route_plot, = ax.plot(x, y, marker=\"o\", markerfacecolor=\"r\")\n",
    "        ax.set_title(f\"Solving traveling salesman problem using genetic algorithms ({Name})\")\n",
    "        route_plot.set_label(f\"Generation: {int(np.floor(n*divisor))} Distance : {1 / fitness_record[int(np.floor(n*divisor))]}\")\n",
    "        ax.legend()\n",
    "\n",
    "        return route_plot,\n",
    "    anim = animation.FuncAnimation(fig, update, init_func=None, frames=int(len(route_list)//divisor), blit=True)    \n",
    "\n",
    "\n",
    "    anim.save('animation.gif', fps=4, writer=\"avconv\", codec=\"libx264\",dpi=600)\n",
    "    "
   ]
  },
  {
   "cell_type": "code",
   "execution_count": 28,
   "metadata": {},
   "outputs": [
    {
     "name": "stderr",
     "output_type": "stream",
     "text": [
      "MovieWriter avconv unavailable; using Pillow instead.\n"
     ]
    },
    {
     "name": "stdout",
     "output_type": "stream",
     "text": [
      "Producing plot for generation: 1176\r"
     ]
    },
    {
     "data": {
      "image/png": "[encoded data removed]",
      "text/plain": [
       "<Figure size 640x480 with 54 Axes>"
      ]
     },
     "metadata": {},
     "output_type": "display_data"
    }
   ],
   "source": [
    "make_animation(best_route_list, fitness_record, Name = \"Andy Gibson\")"
   ]
  },
  {
   "cell_type": "markdown",
   "metadata": {},
   "source": [
    "### Comparison with a greedy algorithm\n",
    "It's interesting to compare a simplistic greedy algorithm that is much less compute-intensive to my lengthy genetic algorithm. As you will see below, with a small list of cities and fewer gens, smaller popSize, etc., the greedy alg far outperforms the GA. However, if you run the GA \"overnight\" and with optimal params, you will be a shorter route. Below are two different insantiations of a greedy algorithm for TSP."
   ]
  },
  {
   "cell_type": "code",
   "execution_count": 29,
   "metadata": {
    "id": "UVvu_tzWj5UG"
   },
   "outputs": [
    {
     "name": "stdout",
     "output_type": "stream",
     "text": [
      "The shortest route distance using a greedy algorithm :  26479.40513790805\n"
     ]
    }
   ],
   "source": [
    "def greedy(cityList):\n",
    "    \"\"\"\n",
    "    ~ Greediest Neighbor Algorithm for TSP ~\n",
    "    Greedy algorithm for TSP that always appends the next closest city (sub-optimal). Useful purely for comparison with our GA.\n",
    "    \"\"\"\n",
    "    N = len(cityList)\n",
    "    visited = [False] * N # populate list of cities to check off, so we only visit each city once\n",
    "    \n",
    "    route_ix = [0] # start at the first city\n",
    "    visited[0] = True # check it off as having been visited\n",
    "    \n",
    "    # repeatedly choose the next closest possible city\n",
    "    while len(route_ix) < N: # keep adding until we reach N cities\n",
    "        i = route_ix[-1] # define the current city as the last one added to the path\n",
    "        best_j = -1 # initialize the current best city\n",
    "        best_d = float('inf') # and their distance\n",
    "        # calculates the euclidean distance between current city and possible next cities\n",
    "        for k in range(N):\n",
    "            if not visited[k]: # prevent visiting a city twice\n",
    "                d = cityList[i].distance(cityList[k]) # compute distance from current city i to potential next cities k\n",
    "                if d < best_d: # store that distance if it's smaller\n",
    "                    best_d = d # new best distance\n",
    "                    best_j = k # and city\n",
    "\n",
    "        route_ix.append(best_j) # append the nearest unvisited city to the route\n",
    "        visited[best_j] = True # save that we visited it\n",
    "\n",
    "    min_route = [cityList[i] for i in route_ix] # convert from indicies back to cities with list comp\n",
    "\n",
    "    mindist = Fitness(min_route).routeDistance() # calculate the length of the entire loop\n",
    "    \n",
    "    return mindist, min_route\n",
    "    \n",
    "mindist, min_route = greedy(city_l)     \n",
    "print(\"The shortest route distance using a greedy algorithm : \", mindist)"
   ]
  },
  {
   "cell_type": "code",
   "execution_count": 30,
   "metadata": {},
   "outputs": [
    {
     "name": "stdout",
     "output_type": "stream",
     "text": [
      "The shortest route distance using a greedy algorithm : 22467.238194193524\n"
     ]
    }
   ],
   "source": [
    "def greedy(cityList):\n",
    "    \"\"\"\n",
    "    ~ Greedier Neighbor Algorithm for TSP ~\n",
    "    This algorithm repeatedly tests each city as an ideal starting point and then chooses the next closest city until the loop is completed. \n",
    "    I was advised that this would be a better greedy algorithm than just starting at the first city every time.\n",
    "\n",
    "    Greediest alg greediness > greedier alg greediness\n",
    "    \"\"\"\n",
    "    N = len(cityList)\n",
    "\n",
    "    best_dist = float('inf') # define running best distance and route metrics\n",
    "    best_route = None\n",
    "\n",
    "    # test out each option for a starting city\n",
    "    for start in range(N):\n",
    "        visited = [False] * N # make sure we can't visit a city twice (except the start)\n",
    "        route_ix = [start] # store ixs of visted cities in order\n",
    "        visited[start] = True # check off the start as having been visited\n",
    "\n",
    "        # repeatedly choose the next closest possible city\n",
    "        while len(route_ix) < N: # go through all cities in N\n",
    "            i = route_ix[-1] # set the current index at the previous city visited\n",
    "            best_j = -1 # initialize current best city\n",
    "            best_d = float('inf') # and its distance\n",
    "            # calculates the euclidean distance between current city and possible next cities\n",
    "            for k in range(N):\n",
    "                if not visited[k]: # prevent visiting a city twice\n",
    "                    d = cityList[i].distance(cityList[k])  # compute distance from current city i to potential next cities k\n",
    "                    if d < best_d: # store that distance if it's smaller\n",
    "                        best_d = d # new best distance\n",
    "                        best_j = k # and city\n",
    "                        \n",
    "            route_ix.append(best_j) # append the nearest unvisited city to the route\n",
    "            visited[best_j] = True # save that we visited it\n",
    "\n",
    "        # build route and score (includes return to start via Fitness)\n",
    "        route = [cityList[i] for i in route_ix] # convert from indicies back to cities with list comp\n",
    "        \n",
    "        dist = Fitness(route).routeDistance() # calculate the length of the entire loop\n",
    "\n",
    "        # save this starting city only if the route associated with it is better than all previous ones\n",
    "        if dist < best_dist:\n",
    "            best_dist = dist\n",
    "            best_route = route\n",
    "\n",
    "    return best_dist, best_route\n",
    "\n",
    "mindist, min_route = greedy(city_l)\n",
    "print(\"The shortest route distance using a greedy algorithm :\", mindist)"
   ]
  },
  {
   "cell_type": "markdown",
   "metadata": {},
   "source": []
  }
 ],
 "metadata": {
  "colab": {
   "collapsed_sections": [],
   "name": "COGS 160 Assignment 2 Final.ipynb",
   "provenance": []
  },
  "kernelspec": {
   "display_name": "cogs-186",
   "language": "python",
   "name": "python3"
  },
  "language_info": {
   "codemirror_mode": {
    "name": "ipython",
    "version": 3
   },
   "file_extension": ".py",
   "mimetype": "text/x-python",
   "name": "python",
   "nbconvert_exporter": "python",
   "pygments_lexer": "ipython3",
   "version": "3.11.13"
  }
 },
 "nbformat": 4,
 "nbformat_minor": 4
}
